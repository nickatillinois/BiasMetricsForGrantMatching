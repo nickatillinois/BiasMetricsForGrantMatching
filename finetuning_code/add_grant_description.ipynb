{
 "cells": [
  {
   "cell_type": "code",
   "execution_count": 8,
   "id": "ac728e3b-8401-4bbf-aace-b4d375be8d49",
   "metadata": {},
   "outputs": [],
   "source": [
    "import pandas as pd\n",
    "df = pd.read_csv('updated_projects_labelled_inflation_adjusted2.csv')\n",
    "df['GRANT_DESCRIPTION'] = (\n",
    "    df['GRANT_TITLE'].fillna('') + ' ' +\n",
    "    df['GRANT_OVERVIEW'].fillna('') + ' ' +\n",
    "    df['GRANT_SECTIONIII'].fillna('')\n",
    ")\n",
    "small_threshold = df['GRANT_VALUE'].quantile(0.33)\n",
    "medium_threshold = df['GRANT_VALUE'].quantile(0.66)\n",
    "def categorize_grant(value):\n",
    "    if value <= small_threshold:\n",
    "        return 'Small'\n",
    "    elif value <= medium_threshold:\n",
    "        return 'Medium'\n",
    "    else:\n",
    "        return 'Large'\n",
    "# Apply the categorization\n",
    "df['GRANT_CATEGORY'] = df['GRANT_VALUE'].apply(categorize_grant)\n",
    "df = df.apply(lambda x: x.str.lower() if x.dtype == \"object\" else x)\n",
    "\n",
    "df.to_csv('updated_projects_labelled_inflation_adjusted2_modified.csv', index=False)"
   ]
  },
  {
   "cell_type": "code",
   "execution_count": 13,
   "id": "514f5b19-0888-45a1-8d2d-1684d477e8fe",
   "metadata": {},
   "outputs": [
    {
     "name": "stdout",
     "output_type": "stream",
     "text": [
      "0_prepare_sets_llm.ipynb\n",
      "1_load_libraries.ipynb\n",
      "2_intrinsic_bias.ipynb\n",
      "3_finetune.ipynb\n",
      "4_rs.ipynb\n",
      "RS_withNames.csv\n",
      "RS_withoutNames.csv\n",
      "add_grant_description.ipynb\n",
      "fine_tuned_models\n",
      "updated_projects_labelled_inflation_adjusted2.csv\n",
      "updated_projects_labelled_inflation_adjusted2_modified.csv\n"
     ]
    }
   ],
   "source": [
    "rs_data_file = pd.read_csv('../test_accuracy.csv')"
   ]
  },
  {
   "cell_type": "code",
   "execution_count": 17,
   "id": "950503d0-1b0a-41de-b2ce-a06e9263aaeb",
   "metadata": {},
   "outputs": [
    {
     "name": "stderr",
     "output_type": "stream",
     "text": [
      "/tmp/ipykernel_6873/3443162275.py:23: FutureWarning: Setting an item of incompatible dtype is deprecated and will raise in a future error of pandas. Value 'rfa-hl-15-005' has dtype incompatible with float64, please explicitly cast to a compatible dtype first.\n",
      "  rs_data_file.at[idx, 'TRUE_GRANT'] = matching_record.iloc[0]['FOA_NUMBER']\n"
     ]
    },
    {
     "name": "stdout",
     "output_type": "stream",
     "text": [
      "Columns TRUE_GRANT, TRUE_AMOUNT, and MATCHING_APPLICATION_ID added and file saved.\n"
     ]
    }
   ],
   "source": [
    "import pandas as pd\n",
    "import numpy as np\n",
    "\n",
    "def add_true_grant_and_amount(rs_data_file_path, data_file_path):\n",
    "    # Read the CSV files\n",
    "    rs_data_file = pd.read_csv(rs_data_file_path)\n",
    "    data = pd.read_csv(data_file_path)\n",
    "\n",
    "    # Initialize new columns\n",
    "    rs_data_file['TRUE_GRANT'] = np.nan\n",
    "    rs_data_file['TRUE_AMOUNT'] = np.nan\n",
    "\n",
    "    # Iterate over each record in rs_data_file\n",
    "    for idx, row in rs_data_file.iterrows():\n",
    "        true_application_id = row['APPLICATION_ID']\n",
    "\n",
    "        # Find the matching record in data\n",
    "        matching_record = data[data['APPLICATION_ID'] == true_application_id]\n",
    "\n",
    "        if not matching_record.empty:\n",
    "            # Update the new columns with the matching record's values\n",
    "            rs_data_file.at[idx, 'TRUE_GRANT'] = matching_record.iloc[0]['FOA_NUMBER']\n",
    "            rs_data_file.at[idx, 'TRUE_AMOUNT'] = matching_record.iloc[0]['GRANT_VALUE']\n",
    "\n",
    "    # Save the updated DataFrame back to CSV\n",
    "    rs_data_file.to_csv(rs_data_file_path, index=False)\n",
    "    print(\"Columns TRUE_GRANT, TRUE_AMOUNT added and file saved.\")\n",
    "    \n",
    "\n",
    "# Example usage\n",
    "add_true_grant_and_amount('../test_accuracy.csv', 'updated_projects_labelled_inflation_adjusted2_modified.csv')\n"
   ]
  },
  {
   "cell_type": "code",
   "execution_count": null,
   "id": "5856d3f2-a65d-413d-9d13-2d9c1dac5ba7",
   "metadata": {},
   "outputs": [],
   "source": []
  }
 ],
 "metadata": {
  "kernelspec": {
   "display_name": "Python 3 (ipykernel)",
   "language": "python",
   "name": "python3"
  },
  "language_info": {
   "codemirror_mode": {
    "name": "ipython",
    "version": 3
   },
   "file_extension": ".py",
   "mimetype": "text/x-python",
   "name": "python",
   "nbconvert_exporter": "python",
   "pygments_lexer": "ipython3",
   "version": "3.11.6"
  }
 },
 "nbformat": 4,
 "nbformat_minor": 5
}
