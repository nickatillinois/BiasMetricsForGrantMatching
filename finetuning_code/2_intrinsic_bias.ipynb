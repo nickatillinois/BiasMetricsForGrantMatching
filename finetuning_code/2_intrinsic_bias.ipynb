{
 "cells": [
  {
   "cell_type": "code",
   "execution_count": null,
   "id": "536dbd8e-68f8-4e28-9d05-2e1b0d9fbbe7",
   "metadata": {},
   "outputs": [],
   "source": [
    "!pip install pytest\n",
    "from transformers import AutoTokenizer, AutoModelForMaskedLM, AutoModel\n",
    "import pytest\n",
    "import numpy as np\n",
    "from pytest import approx\n",
    "import sys\n",
    "import os\n",
    "os.chdir(\"../../../../../../../../\")\n",
    "os.chdir(\"home/user/mnt/degelin/thesis\")\n",
    "sys.path.append(\"biased-rulers/\")\n",
    "from biased_rulers.metrics import disco\n",
    "from biased_rulers.metrics import lpbs\n",
    "from biased_rulers.metrics import seat"
   ]
  },
  {
   "cell_type": "code",
   "execution_count": 2,
   "id": "00beb1a0-665c-4752-a369-f3224c4f6971",
   "metadata": {},
   "outputs": [],
   "source": [
    "def test_disco_bert_base_names(model_name):\n",
    "    os.chdir(\"biased-rulers/biased_rulers/metrics\")\n",
    "    #model = SentenceTransformer(model_name)\n",
    "    model_type = model_name\n",
    "    tokenizer = AutoTokenizer.from_pretrained(model_type)\n",
    "    model = AutoModelForMaskedLM.from_pretrained(model_type)\n",
    "    print(f\"Loaded {model_type}\")\n",
    "    score = disco.disco_test(tokenizer, model)\n",
    "    os.chdir(\"../../..\")\n",
    "    # Score for the bert-base names test (taken from https://arxiv.org/pdf/2010.06032.pdf)\n",
    "    assert score == approx(0.8, abs=1e-1)"
   ]
  },
  {
   "cell_type": "code",
   "execution_count": 3,
   "id": "f66f3650-8b1a-4113-905a-b8de91ad42a2",
   "metadata": {},
   "outputs": [],
   "source": [
    "def test_lpbs_bert_base_names(model_name):\n",
    "    os.chdir(\"biased-rulers/biased_rulers/metrics\")\n",
    "    model_type = model_name\n",
    "    tokenizer = AutoTokenizer.from_pretrained(model_type)\n",
    "    model = AutoModelForMaskedLM.from_pretrained(model_type)\n",
    "    print(f\"Loaded {model_type}\")\n",
    "    score = lpbs.lpbs_test(tokenizer, model)\n",
    "    os.chdir(\"../../..\")\n",
    "    # Score for the bert-base names test (taken from https://arxiv.org/pdf/2010.06032.pdf)\n",
    "    # assert score == approx(0.8, abs=1e-1)\n",
    "    print(\"lpbs score is\")\n",
    "    print(score)"
   ]
  },
  {
   "cell_type": "code",
   "execution_count": null,
   "id": "ecb5d06b-b164-4d8e-bd14-6fa65e117cdf",
   "metadata": {},
   "outputs": [],
   "source": [
    "def test_seat(model_name):\n",
    "    os.chdir(\"biased-rulers/biased_rulers/metrics\")\n",
    "    model_type = model_name\n",
    "    tokenizer = AutoTokenizer.from_pretrained(model_type)\n",
    "    model = AutoModelForMaskedLM.from_pretrained(model_type)\n",
    "    print(f\"Loaded {model_type}\")\n",
    "    attribute_template = \"This is the _.\"\n",
    "    target_template = \"This is the _.\"\n",
    "    results = seat.seat_test(attribute_template, target_template, tokenizer, model)\n",
    "    score = np.fromiter(results.values(), dtype=float).mean()\n",
    "    os.chdir(\"../../..\")\n",
    "    print(\"original seat score is\")\n",
    "    print(score)\n",
    "    assert score == approx(0.4365, abs=1e-3)"
   ]
  },
  {
   "cell_type": "code",
   "execution_count": 4,
   "id": "64dbe8c5-0f24-4e46-9837-637f11ca9561",
   "metadata": {},
   "outputs": [],
   "source": [
    "def test_seat_tan_et_al(model_name):\n",
    "    os.chdir(\"biased-rulers/biased_rulers/metrics\")\n",
    "    model_type = model_name\n",
    "    tokenizer = AutoTokenizer.from_pretrained(model_type)\n",
    "    model = AutoModelForMaskedLM.from_pretrained(model_type)\n",
    "    print(f\"Loaded {model_type}\")\n",
    "    attribute_template = \"This is the _.\"\n",
    "    target_template = \"This is the _.\"\n",
    "    results = seat.tan_et_al_test(attribute_template, target_template, tokenizer, model)\n",
    "    score = np.fromiter(results.values(), dtype=float).mean()\n",
    "    os.chdir(\"../../..\")\n",
    "    print(\"seat_tan_et_al score is\")\n",
    "    print(score)\n"
   ]
  },
  {
   "cell_type": "code",
   "execution_count": 9,
   "id": "157749b6-26b3-413b-9c83-88b66d2f5b34",
   "metadata": {},
   "outputs": [],
   "source": [
    "def test_seat_lauscher_et_al(model_name):\n",
    "    os.chdir(\"biased-rulers/biased_rulers/metrics\")\n",
    "    model_type = model_name\n",
    "    tokenizer = AutoTokenizer.from_pretrained(model_type)\n",
    "    model = AutoModelForMaskedLM.from_pretrained(model_type)\n",
    "    print(f\"Loaded {model_type}\")\n",
    "    attribute_template = \"This is the _.\"\n",
    "    target_template = \"This is the _.\"\n",
    "    results = seat.lauscher_et_al_test(attribute_template, target_template, tokenizer, model)\n",
    "    score = np.fromiter(results.values(), dtype=float).mean()\n",
    "    os.chdir(\"../../..\")\n",
    "    print(\"lauscher_et_al seat score is\")\n",
    "    print(score)"
   ]
  },
  {
   "cell_type": "code",
   "execution_count": null,
   "id": "d954a4c6-5bab-4167-9205-49ad663087bb",
   "metadata": {},
   "outputs": [],
   "source": [
    "test_disco_bert_base_names('bert-base-uncased')"
   ]
  },
  {
   "cell_type": "code",
   "execution_count": null,
   "id": "6299c72b-19c7-4571-ae5f-5382c7eb1e9c",
   "metadata": {},
   "outputs": [],
   "source": [
    "test_lpbs_bert_base_names('bert-base-uncased')"
   ]
  },
  {
   "cell_type": "code",
   "execution_count": null,
   "id": "1b15c265-8069-4bf0-a82f-4816a2ac838a",
   "metadata": {},
   "outputs": [],
   "source": [
    "test_seat(\"bert-base-multilingual-uncased\")"
   ]
  },
  {
   "cell_type": "code",
   "execution_count": null,
   "id": "068d5fe6-6e32-403b-a8dc-a955cc091fc0",
   "metadata": {},
   "outputs": [],
   "source": [
    "test_seat_tan_et_al(\"bert-base-multilingual-uncased\")"
   ]
  },
  {
   "cell_type": "code",
   "execution_count": null,
   "id": "ff9ed573-93f5-444e-9fdd-6a53cb0fdaf4",
   "metadata": {},
   "outputs": [],
   "source": [
    "test_seat_lauscher_et_al(\"bert-base-multilingual-uncased\")"
   ]
  },
  {
   "cell_type": "code",
   "execution_count": null,
   "id": "54c21ac5-1413-4822-acc6-f5d815f464e7",
   "metadata": {},
   "outputs": [],
   "source": []
  }
 ],
 "metadata": {
  "kernelspec": {
   "display_name": "Python 3 (ipykernel)",
   "language": "python",
   "name": "python3"
  },
  "language_info": {
   "codemirror_mode": {
    "name": "ipython",
    "version": 3
   },
   "file_extension": ".py",
   "mimetype": "text/x-python",
   "name": "python",
   "nbconvert_exporter": "python",
   "pygments_lexer": "ipython3",
   "version": "3.11.6"
  }
 },
 "nbformat": 4,
 "nbformat_minor": 5
}
