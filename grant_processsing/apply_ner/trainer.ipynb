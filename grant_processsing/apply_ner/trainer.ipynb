{
 "cells": [
  {
   "cell_type": "code",
   "execution_count": 3,
   "id": "757540e1-4843-41af-a0d2-98e923a3d9d2",
   "metadata": {},
   "outputs": [
    {
     "name": "stdout",
     "output_type": "stream",
     "text": [
      "\u001b[33mWARNING: Running pip as the 'root' user can result in broken permissions and conflicting behaviour with the system package manager. It is recommended to use a virtual environment instead: https://pip.pypa.io/warnings/venv\u001b[0m\u001b[33m\n",
      "\u001b[0m\n",
      "\u001b[1m[\u001b[0m\u001b[34;49mnotice\u001b[0m\u001b[1;39;49m]\u001b[0m\u001b[39;49m A new release of pip is available: \u001b[0m\u001b[31;49m23.3.1\u001b[0m\u001b[39;49m -> \u001b[0m\u001b[32;49m24.0\u001b[0m\n",
      "\u001b[1m[\u001b[0m\u001b[34;49mnotice\u001b[0m\u001b[1;39;49m]\u001b[0m\u001b[39;49m To update, run: \u001b[0m\u001b[32;49mpython -m pip install --upgrade pip\u001b[0m\n",
      "\u001b[1m\n",
      "============================== Info about spaCy ==============================\u001b[0m\n",
      "\n",
      "spaCy version    3.7.4                         \n",
      "Location         /usr/local/lib/python3.10/dist-packages/spacy\n",
      "Platform         Linux-6.2.0-36-generic-x86_64-with-glibc2.35\n",
      "Python version   3.10.12                       \n",
      "Pipelines                                      \n",
      "\n"
     ]
    }
   ],
   "source": [
    "!pip install spacy -q\n",
    "!python -m spacy info"
   ]
  },
  {
   "cell_type": "code",
   "execution_count": 4,
   "id": "29d8c35c-9965-4182-a4c0-3c72ff1ecf1d",
   "metadata": {},
   "outputs": [],
   "source": [
    "import json"
   ]
  },
  {
   "cell_type": "code",
   "execution_count": 5,
   "id": "1780a893-6d3c-48c4-87d7-115041b9a458",
   "metadata": {},
   "outputs": [],
   "source": [
    "with open('annotations.json', 'r') as f:\n",
    "    json_data = f.read()\n",
    "    data = json.loads(json_data)"
   ]
  },
  {
   "cell_type": "code",
   "execution_count": 8,
   "id": "9d7d3601-2f0f-459a-8b52-c9635fce7f79",
   "metadata": {},
   "outputs": [
    {
     "name": "stdout",
     "output_type": "stream",
     "text": [
      "201\n"
     ]
    }
   ],
   "source": [
    "training_data: list = []\n",
    "\n",
    "for line in data:\n",
    "    training_data.append(  [ line[0], line[1]] )\n",
    "print(len(training_data))"
   ]
  },
  {
   "cell_type": "code",
   "execution_count": 9,
   "id": "992569f6-4a2e-4958-9473-d8d23eab8522",
   "metadata": {},
   "outputs": [
    {
     "name": "stdout",
     "output_type": "stream",
     "text": [
      "{'entities': [[553, 560, 'MONEY'], [622, 623, 'YEARS']]}\n"
     ]
    }
   ],
   "source": [
    "line = training_data[0][1]\n",
    "\n",
    "print(line)"
   ]
  },
  {
   "cell_type": "code",
   "execution_count": 10,
   "id": "457a2d35-cfa8-40b1-840c-38c6e8ea3073",
   "metadata": {},
   "outputs": [],
   "source": [
    "train_split = int(len(training_data) * 0.8) # 80% training and 20% deve set\n",
    "\n",
    "train_data = training_data[:train_split]\n",
    "dev_data = training_data[train_split:]"
   ]
  },
  {
   "cell_type": "code",
   "execution_count": 11,
   "id": "9903c693-6876-4d9f-a547-f80d400653ad",
   "metadata": {},
   "outputs": [
    {
     "name": "stderr",
     "output_type": "stream",
     "text": [
      "100%|██████████| 160/160 [00:00<00:00, 1619.77it/s]\n",
      "100%|██████████| 41/41 [00:00<00:00, 1367.70it/s]\n"
     ]
    }
   ],
   "source": [
    "import spacy\n",
    "from spacy.tokens import DocBin\n",
    "from tqdm import tqdm\n",
    "\n",
    "\n",
    "def convert(path, dataset):\n",
    "    nlp = spacy.blank(\"en\")\n",
    "    db = DocBin()\n",
    "    for text, annot in tqdm(dataset): \n",
    "            doc = nlp.make_doc(text) \n",
    "            ents = []\n",
    "            for start, end, label in annot[\"entities\"]:\n",
    "                span = doc.char_span(start, end, label=label, alignment_mode=\"contract\")\n",
    "                if span is None:\n",
    "                    print(\"Skipping nil entity\")                \n",
    "                if span.text != span.text.strip():\n",
    "                    print(\"Skipping entity spans with whitespace\")\n",
    "                else:\n",
    "                    ents.append(span)\n",
    "            doc.ents = ents\n",
    "\n",
    "            db.add(doc)\n",
    "    db.to_disk(path)\n",
    "    \n",
    "convert(\"train.spacy\", train_data)\n",
    "convert(\"dev.spacy\", dev_data)"
   ]
  },
  {
   "cell_type": "code",
   "execution_count": 12,
   "id": "197e29b3-29c2-4884-82f5-d3feb579e390",
   "metadata": {},
   "outputs": [
    {
     "name": "stdout",
     "output_type": "stream",
     "text": [
      "\u001b[38;5;3m⚠ To generate a more effective transformer-based config (GPU-only),\n",
      "install the spacy-transformers package and re-run this command. The config\n",
      "generated now does not use transformers.\u001b[0m\n",
      "\u001b[38;5;4mℹ Generated config template specific for your use case\u001b[0m\n",
      "- Language: en\n",
      "- Pipeline: ner\n",
      "- Optimize for: efficiency\n",
      "- Hardware: CPU\n",
      "- Transformer: None\n",
      "\u001b[38;5;2m✔ Auto-filled config with all values\u001b[0m\n",
      "\u001b[38;5;2m✔ Saved config\u001b[0m\n",
      "config.cfg\n",
      "You can now add your data and train your pipeline:\n",
      "python -m spacy train config.cfg --paths.train ./train.spacy --paths.dev ./dev.spacy\n"
     ]
    }
   ],
   "source": [
    "!python -m spacy init config config.cfg --lang en --pipeline ner --optimize efficiency --force"
   ]
  },
  {
   "cell_type": "code",
   "execution_count": 62,
   "id": "8945841a-d860-4c32-b809-0542efc11ebe",
   "metadata": {},
   "outputs": [
    {
     "name": "stdout",
     "output_type": "stream",
     "text": [
      "\u001b[1m\n",
      "============================ Data file validation ============================\u001b[0m\n",
      "\u001b[38;5;2m✔ Pipeline can be initialized with data\u001b[0m\n",
      "\u001b[38;5;2m✔ Corpus is loadable\u001b[0m\n",
      "\u001b[1m\n",
      "=============================== Training stats ===============================\u001b[0m\n",
      "Language: en\n",
      "Training pipeline: tok2vec, ner\n",
      "160 training docs\n",
      "40 evaluation docs\n",
      "\u001b[38;5;2m✔ No overlap between training and evaluation data\u001b[0m\n",
      "\u001b[38;5;3m⚠ Low number of examples to train a new pipeline (160)\u001b[0m\n",
      "\u001b[1m\n",
      "============================== Vocab & Vectors ==============================\u001b[0m\n",
      "\u001b[38;5;4mℹ 48250 total word(s) in the data (2104 unique)\u001b[0m\n",
      "\u001b[38;5;4mℹ No word vectors present in the package\u001b[0m\n",
      "\u001b[1m\n",
      "========================== Named Entity Recognition ==========================\u001b[0m\n",
      "\u001b[38;5;4mℹ 2 label(s)\u001b[0m\n",
      "0 missing value(s) (tokens with '-' label)\n",
      "\u001b[38;5;2m✔ Good amount of examples for all labels\u001b[0m\n",
      "\u001b[38;5;2m✔ Examples without occurrences available for all labels\u001b[0m\n",
      "\u001b[38;5;2m✔ No entities consisting of or starting/ending with whitespace\u001b[0m\n",
      "\u001b[38;5;2m✔ No entities crossing sentence boundaries\u001b[0m\n",
      "\u001b[1m\n",
      "================================== Summary ==================================\u001b[0m\n",
      "\u001b[38;5;2m✔ 7 checks passed\u001b[0m\n",
      "\u001b[38;5;3m⚠ 1 warning\u001b[0m\n"
     ]
    }
   ],
   "source": [
    "!spacy debug data config.cfg --paths.train ./train.spacy --paths.dev ./dev.spacy"
   ]
  },
  {
   "cell_type": "code",
   "execution_count": 64,
   "id": "6851b051-c5ac-44c4-baa0-9c2f223a03c4",
   "metadata": {},
   "outputs": [
    {
     "name": "stdout",
     "output_type": "stream",
     "text": [
      "\u001b[38;5;4mℹ Saving to output directory: .\u001b[0m\n",
      "\u001b[38;5;4mℹ Using CPU\u001b[0m\n",
      "\u001b[1m\n",
      "=========================== Initializing pipeline ===========================\u001b[0m\n",
      "\u001b[38;5;2m✔ Initialized pipeline\u001b[0m\n",
      "\u001b[1m\n",
      "============================= Training pipeline =============================\u001b[0m\n",
      "\u001b[38;5;4mℹ Pipeline: ['tok2vec', 'ner']\u001b[0m\n",
      "\u001b[38;5;4mℹ Initial learn rate: 0.001\u001b[0m\n",
      "E    #       LOSS TOK2VEC  LOSS NER  ENTS_F  ENTS_P  ENTS_R  SCORE \n",
      "---  ------  ------------  --------  ------  ------  ------  ------\n",
      "  0       0          0.00     76.90    0.00    0.00    0.00    0.00\n",
      "  1     200         27.48   2793.98   72.18   73.85   70.59    0.72\n",
      "  2     400         43.17    294.32   74.29   72.22   76.47    0.74\n",
      "  3     600         72.66    259.31   72.59   73.13   72.06    0.73\n",
      "  5     800       1456.35    409.43   75.82   68.24   85.29    0.76\n",
      "  6    1000        122.64    184.28   73.76   71.23   76.47    0.74\n",
      "  7    1200        145.98    187.42   70.59   70.59   70.59    0.71\n",
      "  8    1400        144.71    167.94   75.71   73.61   77.94    0.76\n",
      " 10    1600        160.73    159.93   75.76   78.12   73.53    0.76\n",
      " 11    1800        190.18    165.30   72.86   70.83   75.00    0.73\n",
      " 12    2000        182.94    142.92   71.76   74.60   69.12    0.72\n",
      " 13    2200        227.52    122.19   72.11   67.09   77.94    0.72\n",
      " 15    2400        171.95    120.20   70.50   69.01   72.06    0.71\n",
      "\u001b[38;5;2m✔ Saved pipeline to output directory\u001b[0m\n",
      "model-last\n"
     ]
    }
   ],
   "source": [
    "!python -m spacy train config.cfg --output ./ --paths.train ./train.spacy --paths.dev ./dev.spacy"
   ]
  },
  {
   "cell_type": "code",
   "execution_count": 18,
   "id": "0c7cc9f2-4c66-461a-818c-f1fc04915025",
   "metadata": {},
   "outputs": [
    {
     "name": "stdout",
     "output_type": "stream",
     "text": [
      "5m\n",
      "5\n"
     ]
    }
   ],
   "source": [
    "text = \"section ii. award information funding instrument grant: a support mechanism providing money, property, or both to an eligible entity to carry out an approved project or activity. application types allowed new resubmissions the oer glossary and the sf424 (r&r) application guide provide details on these application types. clinical trial optional: accepting applications that either propose or do not propose clinical trial(s) need help determining whether you are doing a clinical trial? funds available and anticipated number of awards nih anticipates providing $5m per year to fund an estimated 5 to 10 awards award budget application budgets are not limited but need to reflect the actual needs of the proposed project. award project period the scope of the proposed project should determine the project period. the maximum project period is 5 years. nih grants policies as described in the nih grants policy statement will apply to the applications submitted and awards made from this foa.\"\n",
    "nlp = spacy.load(\"model-best\")\n",
    "doc = nlp(text)\n",
    "for ent in doc.ents:\n",
    "#print(ent.label_, ent.text)\n",
    "    print(ent.text)"
   ]
  },
  {
   "cell_type": "code",
   "execution_count": 72,
   "id": "335caa6a-c9f6-4da2-9614-53fa6e093d61",
   "metadata": {},
   "outputs": [
    {
     "data": {
      "text/html": [
       "<span class=\"tex2jax_ignore\"><div class=\"entities\" style=\"line-height: 2.5; direction: ltr\">section ii. award information funding instrument grant: a support mechanism providing money, property, or both to an eligible entity to carry out an approved project or activity. application types allowed new resubmissions the oer glossary and the sf424 (r&amp;r) application guide provide details on these application types. clinical trial optional: accepting applications that either propose or do not propose clinical trial(s) need help determining whether you are doing a clinical trial? funds available and anticipated number of awards nih anticipates providing $\n",
       "<mark class=\"entity\" style=\"background: #FFFF33; padding: 0.45em 0.6em; margin: 0 0.25em; line-height: 1; border-radius: 0.35em;\">\n",
       "    5m\n",
       "    <span style=\"font-size: 0.8em; font-weight: bold; line-height: 1; border-radius: 0.35em; vertical-align: middle; margin-left: 0.5rem\">MONEY</span>\n",
       "</mark>\n",
       " per year to fund an estimated 5 to 10 awards award budget application budgets are not limited but need to reflect the actual needs of the proposed project. award project period the scope of the proposed project should determine the project period. the maximum project period is \n",
       "<mark class=\"entity\" style=\"background: #FF006E; padding: 0.45em 0.6em; margin: 0 0.25em; line-height: 1; border-radius: 0.35em;\">\n",
       "    5\n",
       "    <span style=\"font-size: 0.8em; font-weight: bold; line-height: 1; border-radius: 0.35em; vertical-align: middle; margin-left: 0.5rem\">YEARS</span>\n",
       "</mark>\n",
       " years. nih grants policies as described in the nih grants policy statement will apply to the applications submitted and awards made from this foa.</div></span>"
      ],
      "text/plain": [
       "<IPython.core.display.HTML object>"
      ]
     },
     "metadata": {},
     "output_type": "display_data"
    }
   ],
   "source": [
    "colors = {'MONEY': \"#FFFF33\",'YEARS': \"#FF006E\" }\n",
    "options = {\"ents\": ['MONEY', 'YEARS'], \"colors\": colors}\n",
    "\n",
    "spacy.displacy.render(doc, style=\"ent\", jupyter=True, options=options)"
   ]
  },
  {
   "cell_type": "code",
   "execution_count": null,
   "id": "ed9f9cdf-4e64-4221-8f90-955cc2e45c6d",
   "metadata": {},
   "outputs": [],
   "source": []
  }
 ],
 "metadata": {
  "kernelspec": {
   "display_name": "Python 3 (ipykernel)",
   "language": "python",
   "name": "python3"
  },
  "language_info": {
   "codemirror_mode": {
    "name": "ipython",
    "version": 3
   },
   "file_extension": ".py",
   "mimetype": "text/x-python",
   "name": "python",
   "nbconvert_exporter": "python",
   "pygments_lexer": "ipython3",
   "version": "3.10.12"
  }
 },
 "nbformat": 4,
 "nbformat_minor": 5
}
