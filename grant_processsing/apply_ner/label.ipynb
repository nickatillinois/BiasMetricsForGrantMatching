{
 "cells": [
  {
   "cell_type": "code",
   "execution_count": 1,
   "id": "c5de0028-a4a2-4dd1-b132-4cb9e5a2fbbf",
   "metadata": {},
   "outputs": [],
   "source": [
    "#!pip uninstall typing-extensions -y\n",
    "#!pip install typing-extensions==4.5.0\n",
    "!pip install spacy -q\n",
    "!pip install pandas -q"
   ]
  },
  {
   "cell_type": "code",
   "execution_count": 2,
   "id": "ddab4048-0c96-4a9e-ac58-f0cd7d5191d7",
   "metadata": {},
   "outputs": [],
   "source": [
    "import json\n",
    "import spacy\n",
    "import pandas as pd\n",
    "from spacy.tokens import DocBin\n",
    "from tqdm import tqdm"
   ]
  },
  {
   "cell_type": "code",
   "execution_count": 3,
   "id": "8bd5f1f4-12bc-4a35-a190-f690bbe4904b",
   "metadata": {},
   "outputs": [
    {
     "name": "stdout",
     "output_type": "stream",
     "text": [
      "    Grant Number                                            Content\n",
      "0  RFA-RM-10-008  \"\"\"II. Award Information 1. Mechanism of Suppo...\n",
      "1  RFA-MH-14-215  \"\"\"II. Award Information Funding Instrument Co...\n",
      "2  RFA-ES-09-004  \"\"\"II. Award Information 1. Mechanism of Suppo...\n",
      "3  RFA-AA-12-002  \"\"\"Section II. Award Information Funding Instr...\n",
      "4  RFA-AG-14-005  \"\"\"Section II. Award Information Funding Instr...\n"
     ]
    }
   ],
   "source": [
    "column_names = ['Grant Number', 'Content']\n",
    "\n",
    "# Initialize an empty list to store the lines from the file\n",
    "lines = []\n",
    "\n",
    "# Read the file line by line and append each line to the list\n",
    "with open('sectionii.csv', 'r', encoding='latin-1') as file:\n",
    "    # Read the header line\n",
    "    header = file.readline().strip().split(',')\n",
    "    \n",
    "    # Process each subsequent line\n",
    "    for line in file:\n",
    "        if line.strip():  # Only process non-empty lines\n",
    "            # Split the line into two parts using a comma as the delimiter\n",
    "            parts = line.strip().split(',', 1)  # Limit split to 1 to avoid splitting the section2 text\n",
    "            lines.append(parts)\n",
    "\n",
    "# Create a DataFrame from the list of lines with column names\n",
    "df = pd.DataFrame(lines, columns=column_names)\n",
    "\n",
    "# Print only the head of the DataFrame\n",
    "print(df.head())"
   ]
  },
  {
   "cell_type": "code",
   "execution_count": 4,
   "id": "54d4a074-5461-445a-9c06-c9434d01d7dc",
   "metadata": {},
   "outputs": [],
   "source": [
    "nlp = spacy.load(\"model-best\")"
   ]
  },
  {
   "cell_type": "code",
   "execution_count": 5,
   "id": "cb1cd924-708d-4ed7-bb55-67a4ae136eca",
   "metadata": {},
   "outputs": [],
   "source": [
    "def extract_cash_and_years(text):\n",
    "    # Process the text using the SpaCy pipeline\n",
    "    doc = nlp(text)\n",
    "    \n",
    "    # Initialize variables to store cash and years\n",
    "    cash = None\n",
    "    years = None\n",
    "    \n",
    "    # Extract entities and assign values to cash and years\n",
    "    for ent in doc.ents:\n",
    "        if ent.label_ == 'MONEY':\n",
    "            cash = ent.text\n",
    "        elif ent.label_ == 'YEARS':\n",
    "            years = ent.text\n",
    "            \n",
    "    return cash, years"
   ]
  },
  {
   "cell_type": "code",
   "execution_count": 6,
   "id": "0d057f1e-46e0-4fc8-903a-dce10514c6cb",
   "metadata": {},
   "outputs": [],
   "source": [
    "df['cash'], df['years'] = zip(*df['Content'].apply(extract_cash_and_years))"
   ]
  },
  {
   "cell_type": "code",
   "execution_count": 7,
   "id": "f7aceb65-38b5-40f0-a716-bdfdc592b17f",
   "metadata": {},
   "outputs": [
    {
     "name": "stdout",
     "output_type": "stream",
     "text": [
      "    Grant Number                                            Content  \\\n",
      "0  RFA-RM-10-008  \"\"\"II. Award Information 1. Mechanism of Suppo...   \n",
      "1  RFA-MH-14-215  \"\"\"II. Award Information Funding Instrument Co...   \n",
      "2  RFA-ES-09-004  \"\"\"II. Award Information 1. Mechanism of Suppo...   \n",
      "3  RFA-AA-12-002  \"\"\"Section II. Award Information Funding Instr...   \n",
      "4  RFA-AG-14-005  \"\"\"Section II. Award Information Funding Instr...   \n",
      "\n",
      "          cash years  \n",
      "0      500,000  five  \n",
      "1         None     3  \n",
      "2      700,000     5  \n",
      "3  1.8 million  five  \n",
      "4      120,000     5  \n"
     ]
    }
   ],
   "source": [
    "print(df.head())"
   ]
  },
  {
   "cell_type": "code",
   "execution_count": 19,
   "id": "b90c73c1-e038-491d-8ce4-a2fb455a2879",
   "metadata": {},
   "outputs": [],
   "source": [
    "# Function to convert cash values into digits\n",
    "def convert_cash_to_digits(cash_value):\n",
    "    if cash_value is not None:\n",
    "        cash_value = str(cash_value)\n",
    "        # Case 1: If it only contains digits and a comma, then remove the comma\n",
    "        \n",
    "        if cash_value.replace(',', '').isdigit():\n",
    "            return int(cash_value.replace(',', ''))\n",
    "        if cash_value.replace('.', '').isdigit():\n",
    "            cash_value_no_commas = cash_value.replace(',', '')\n",
    "            # Convert the cleaned string to a float\n",
    "            cash_value_float = float(cash_value_no_commas.rstrip(\".\"))\n",
    "            # Multiply the float value by 1,000,000\n",
    "            cash_value_in_millions = cash_value_float * 1_000_000\n",
    "            # Convert the result to an integer\n",
    "            cash_value_int = int(cash_value_in_millions)\n",
    "            return cash_value_int\n",
    "        # Case 2: If it contains letters, check if they are 'million' or 'm'\n",
    "        elif any(char.isalpha() for char in cash_value):\n",
    "            cash_value_lower = cash_value.lower()\n",
    "            if 'million' in cash_value_lower or 'm' in cash_value_lower:\n",
    "                # Take the digits but keep the point separator (for example 2.4), convert it to float\n",
    "                # and multiply by 1000000\n",
    "                cash_value_no_commas = cash_value.replace(',', '')\n",
    "                # Filter out only digits and the decimal point from the string\n",
    "                filtered_chars = ''.join(filter(lambda x: x.isdigit() or x == '.', cash_value_no_commas))\n",
    "                # Convert the filtered string to a float\n",
    "                cash_value_float = float(filtered_chars.rstrip(\".\"))\n",
    "                # Multiply the float value by 1,000,000\n",
    "                cash_value_in_millions = cash_value_float * 1000000\n",
    "                # Convert the result to an integer\n",
    "                cash_value_int = int(cash_value_in_millions)\n",
    "                return cash_value_int\n",
    "    return None\n"
   ]
  },
  {
   "cell_type": "code",
   "execution_count": 20,
   "id": "d4ff8172-a25d-4914-aaeb-e8abc87ac667",
   "metadata": {},
   "outputs": [
    {
     "name": "stdout",
     "output_type": "stream",
     "text": [
      "yippie test ssucceeded\n"
     ]
    }
   ],
   "source": [
    "def test_conversion():\n",
    "    assert convert_cash_to_digits('250,000') == 250000\n",
    "    assert convert_cash_to_digits('1,000,000') == 1_000_000\n",
    "    assert convert_cash_to_digits('1 million') == 1_000_000\n",
    "    assert convert_cash_to_digits('2.4') == 2_400_000\n",
    "    assert convert_cash_to_digits('1.0.') == 1_000_000\n",
    "    \n",
    "\n",
    "    print(\"yippie test ssucceeded\")\n",
    "test_conversion()"
   ]
  },
  {
   "cell_type": "code",
   "execution_count": 21,
   "id": "e1faf377-8170-4824-b4ef-e6a67bb7e9ef",
   "metadata": {},
   "outputs": [],
   "source": [
    "df['cash_formatted'] = df['cash'].apply(convert_cash_to_digits)"
   ]
  },
  {
   "cell_type": "code",
   "execution_count": 22,
   "id": "2f5e0b7f-7080-43ea-8245-4635fbf8a1f6",
   "metadata": {},
   "outputs": [
    {
     "name": "stdout",
     "output_type": "stream",
     "text": [
      "       Grant Number                                            Content  \\\n",
      "0     RFA-RM-10-008  \"\"\"II. Award Information 1. Mechanism of Suppo...   \n",
      "1     RFA-MH-14-215  \"\"\"II. Award Information Funding Instrument Co...   \n",
      "2     RFA-ES-09-004  \"\"\"II. Award Information 1. Mechanism of Suppo...   \n",
      "3     RFA-AA-12-002  \"\"\"Section II. Award Information Funding Instr...   \n",
      "4     RFA-AG-14-005  \"\"\"Section II. Award Information Funding Instr...   \n",
      "...             ...                                                ...   \n",
      "4874  RFA-HG-14-006  \"\"\"Section II. Award Information Funding Instr...   \n",
      "4875  RFA-EB-15-002  \"\"\"Section II. Award Information Funding Instr...   \n",
      "4876  RFA-DK-14-507  \"\"\"Section II. Award Information Funding Instr...   \n",
      "4877  RFA-DK-14-505  \"\"\"Section II. Award Information Funding Instr...   \n",
      "4878  RFA-RM-14-017  \"\"\"Section II. Award Information Funding Instr...   \n",
      "\n",
      "             cash years  cash_formatted  \n",
      "0         500,000  five        500000.0  \n",
      "1            None     3             NaN  \n",
      "2         700,000     5        700000.0  \n",
      "3     1.8 million  five       1800000.0  \n",
      "4         120,000     5        120000.0  \n",
      "...           ...   ...             ...  \n",
      "4874      350,000  None        350000.0  \n",
      "4875      350,000     4        350000.0  \n",
      "4876   45,000,000  five      45000000.0  \n",
      "4877   20,000,000  five      20000000.0  \n",
      "4878         1.8M     5       1800000.0  \n",
      "\n",
      "[4879 rows x 5 columns]\n"
     ]
    }
   ],
   "source": [
    "print(df)"
   ]
  },
  {
   "cell_type": "code",
   "execution_count": 23,
   "id": "64aef5c2-471c-4602-8298-6b67edf79c72",
   "metadata": {},
   "outputs": [],
   "source": [
    "df.to_csv('output.csv', index=False)"
   ]
  },
  {
   "cell_type": "code",
   "execution_count": null,
   "id": "7fc8e5d7-f0b4-4ede-b33c-1b6185787556",
   "metadata": {},
   "outputs": [],
   "source": []
  }
 ],
 "metadata": {
  "kernelspec": {
   "display_name": "Python 3 (ipykernel)",
   "language": "python",
   "name": "python3"
  },
  "language_info": {
   "codemirror_mode": {
    "name": "ipython",
    "version": 3
   },
   "file_extension": ".py",
   "mimetype": "text/x-python",
   "name": "python",
   "nbconvert_exporter": "python",
   "pygments_lexer": "ipython3",
   "version": "3.10.12"
  }
 },
 "nbformat": 4,
 "nbformat_minor": 5
}
