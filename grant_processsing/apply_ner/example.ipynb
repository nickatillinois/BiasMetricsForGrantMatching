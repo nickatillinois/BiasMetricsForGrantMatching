{
 "cells": [
  {
   "cell_type": "code",
   "execution_count": null,
   "id": "db74f1c1-2484-4bab-a16f-b4d32414f0e2",
   "metadata": {},
   "outputs": [],
   "source": [
    "!wget https://gist.githubusercontent.com/johnidm/1cb74e2603177d3d3d554b6b1fe79728/raw/49e83c8178a16a76518894af8c00c2f4fb80a171/dataset.jsonl"
   ]
  },
  {
   "cell_type": "code",
   "execution_count": null,
   "id": "f18b21b0-814e-4214-8079-d64d99367ab3",
   "metadata": {},
   "outputs": [],
   "source": [
    "import json\n",
    "\n",
    "\n",
    "with open('dataset.jsonl', 'r') as f:\n",
    "    lines = list(f)\n",
    "\n",
    "training_data: list = []\n",
    "\n",
    "for line in lines:\n",
    "    break\n",
    "    row = json.loads(line)\n",
    "    training_data.append(  [ row[\"text\"], { \"entities\": row[\"label\"] } ] )\n",
    "print(len(training_data))"
   ]
  },
  {
   "cell_type": "code",
   "execution_count": null,
   "id": "94526e74-9b53-461e-8e96-a38b748a3cc2",
   "metadata": {},
   "outputs": [],
   "source": [
    "train_split = int(len(training_data) * 0.8) # 80% training and 20% deve set\n",
    "\n",
    "train_data = training_data[:train_split]\n",
    "dev_data = training_data[train_split:]\n"
   ]
  },
  {
   "cell_type": "code",
   "execution_count": 11,
   "id": "7d718bf7-7bd8-4901-b36f-a220a456f022",
   "metadata": {},
   "outputs": [
    {
     "name": "stdout",
     "output_type": "stream",
     "text": [
      "{'entities': [[419, 498, 'AFFILIATIONS']]}\n"
     ]
    }
   ],
   "source": [
    "print(train_data[0][1])"
   ]
  },
  {
   "cell_type": "code",
   "execution_count": null,
   "id": "bb8c7b95-ff86-40a4-812b-53c572cc0351",
   "metadata": {},
   "outputs": [],
   "source": [
    "import spacy\n",
    "from spacy.tokens import DocBin\n",
    "from tqdm import tqdm\n",
    "\n",
    "\n",
    "def convert(path, dataset):\n",
    "    nlp = spacy.blank(\"en\")\n",
    "    db = DocBin()\n",
    "    for text, annot in tqdm(dataset): \n",
    "            doc = nlp.make_doc(text) \n",
    "            ents = []\n",
    "            for start, end, label in annot[\"entities\"]:\n",
    "                span = doc.char_span(start, end, label=label, alignment_mode=\"contract\")\n",
    "                if span is None:\n",
    "                    print(\"Skipping nil entity\")                \n",
    "                if span.text != span.text.strip():\n",
    "                    print(\"Skipping entity spans with whitespace\")\n",
    "                else:\n",
    "                    ents.append(span)\n",
    "            doc.ents = ents\n",
    "\n",
    "            db.add(doc)\n",
    "    db.to_disk(path)\n",
    "    \n",
    "convert(\"train.spacy\", train_data)\n",
    "convert(\"dev.spacy\", dev_data)"
   ]
  },
  {
   "cell_type": "code",
   "execution_count": null,
   "id": "1069fffa-18f9-4149-bdc6-9813b6619ea8",
   "metadata": {},
   "outputs": [],
   "source": []
  }
 ],
 "metadata": {
  "kernelspec": {
   "display_name": "Python 3 (ipykernel)",
   "language": "python",
   "name": "python3"
  },
  "language_info": {
   "codemirror_mode": {
    "name": "ipython",
    "version": 3
   },
   "file_extension": ".py",
   "mimetype": "text/x-python",
   "name": "python",
   "nbconvert_exporter": "python",
   "pygments_lexer": "ipython3",
   "version": "3.10.12"
  }
 },
 "nbformat": 4,
 "nbformat_minor": 5
}
